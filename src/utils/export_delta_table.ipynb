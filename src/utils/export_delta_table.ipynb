{
 "cells": [
  {
   "cell_type": "markdown",
   "metadata": {
    "application/vnd.databricks.v1+cell": {
     "cellMetadata": {},
     "inputWidgets": {},
     "nuid": "19d17783-00ce-4495-b27b-874154557ddc",
     "showTitle": false,
     "tableResultSettingsMap": {},
     "title": ""
    },
    "jupyter": {
     "outputs_hidden": true
    }
   },
   "source": [
    "# Export the delta table in the DBFS"
   ]
  },
  {
   "cell_type": "code",
   "execution_count": 0,
   "metadata": {
    "application/vnd.databricks.v1+cell": {
     "cellMetadata": {
      "byteLimit": 2048000,
      "rowLimit": 10000
     },
     "inputWidgets": {},
     "nuid": "39686dac-7b31-4594-9df5-d9d9c20a6e68",
     "showTitle": false,
     "tableResultSettingsMap": {},
     "title": ""
    }
   },
   "outputs": [],
   "source": [
    "export_tables = [\n",
    "    \"calculated_race_results\",\n",
    "    \"constructor_standings\",\n",
    "    \"driver_standings\",\n",
    "    \"race_results\"\n",
    "]\n",
    "\n",
    "for table in export_tables:\n",
    "    # read table\n",
    "    df = spark.table(f\"hive_metastore.f1_presentation.{table}\")\n",
    "    df.show(10)\n",
    "\n",
    "    # 写出 CSV\n",
    "    df.coalesce(1).write.mode(\"overwrite\") \\\n",
    "      .option(\"header\", True) \\\n",
    "      .option(\"quote\", \"\\\"\") \\\n",
    "      .option(\"escape\", \"\\\"\") \\\n",
    "      .csv(f\"dbfs:/FileStore/f1_exports/{table}\")\n"
   ]
  },
  {
   "cell_type": "code",
   "execution_count": 0,
   "metadata": {
    "application/vnd.databricks.v1+cell": {
     "cellMetadata": {},
     "inputWidgets": {},
     "nuid": "1542b150-40bb-477b-8f06-390a302da0c8",
     "showTitle": false,
     "tableResultSettingsMap": {},
     "title": ""
    }
   },
   "outputs": [],
   "source": []
  }
 ],
 "metadata": {
  "application/vnd.databricks.v1+notebook": {
   "computePreferences": null,
   "dashboards": [],
   "environmentMetadata": {
    "base_environment": "",
    "environment_version": "2"
   },
   "inputWidgetPreferences": null,
   "language": "python",
   "notebookMetadata": {
    "pythonIndentUnit": 4
   },
   "notebookName": "export_delta_table",
   "widgets": {}
  },
  "language_info": {
   "name": "python"
  }
 },
 "nbformat": 4,
 "nbformat_minor": 0
}
