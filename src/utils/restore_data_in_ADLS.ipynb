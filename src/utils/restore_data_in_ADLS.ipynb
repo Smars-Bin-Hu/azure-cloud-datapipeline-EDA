{
 "cells": [
  {
   "cell_type": "code",
   "execution_count": 0,
   "metadata": {
    "application/vnd.databricks.v1+cell": {
     "cellMetadata": {
      "byteLimit": 2048000,
      "rowLimit": 10000
     },
     "inputWidgets": {},
     "nuid": "07456836-6887-4623-8137-3c44be512298",
     "showTitle": false,
     "tableResultSettingsMap": {},
     "title": ""
    }
   },
   "outputs": [],
   "source": [
    "%python\n",
    "p_file_dates = [\n",
    "    \"2021-03-21\", \n",
    "    \"2021-03-28\", \n",
    "    \"2021-04-18\"\n",
    "]\n",
    "\n",
    "for date in p_file_dates:\n",
    "    print(f\"Running notebooks for date: {date}\")\n",
    "    \n",
    "    v_result_ingest = dbutils.notebook.run(\n",
    "        \"../data_ingestion/0.ingest_all_files\", \n",
    "        timeout_seconds=0, \n",
    "        arguments={\"p_file_date\": date}\n",
    "    )\n",
    "    print(f\"Ingestion result for {date}: {v_result_ingest}\")\n",
    "\n",
    "    v_result_transform = dbutils.notebook.run(\n",
    "        \"../data_transformation/presentation_layer/0.transform_all_files\", \n",
    "        timeout_seconds=0, \n",
    "        arguments={\"p_file_date\": date}\n",
    "    )\n",
    "    print(f\"Transformation result for {date}: {v_result_transform}\")"
   ]
  }
 ],
 "metadata": {
  "application/vnd.databricks.v1+notebook": {
   "computePreferences": null,
   "dashboards": [],
   "environmentMetadata": {
    "base_environment": "",
    "environment_version": "2"
   },
   "inputWidgetPreferences": null,
   "language": "python",
   "notebookMetadata": {
    "pythonIndentUnit": 4
   },
   "notebookName": "restore_data_in_ADLS",
   "widgets": {}
  },
  "language_info": {
   "name": "python"
  }
 },
 "nbformat": 4,
 "nbformat_minor": 0
}
